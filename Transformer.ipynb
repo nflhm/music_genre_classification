{
 "cells": [
  {
   "cell_type": "code",
   "execution_count": 1,
   "id": "BgWryqs2gnkH",
   "metadata": {
    "colab": {
     "base_uri": "https://localhost:8080/"
    },
    "executionInfo": {
     "elapsed": 14107,
     "status": "ok",
     "timestamp": 1646879889337,
     "user": {
      "displayName": "Kuma Kuma",
      "photoUrl": "https://lh3.googleusercontent.com/a/default-user=s64",
      "userId": "12915026376988725700"
     },
     "user_tz": -420
    },
    "id": "BgWryqs2gnkH",
    "outputId": "dc854549-ec49-46f8-c402-3d7d7211ce77"
   },
   "outputs": [
    {
     "name": "stdout",
     "output_type": "stream",
     "text": [
      "Mounted at /content/drive\n"
     ]
    }
   ],
   "source": [
    "from google.colab import drive\n",
    "drive.mount('/content/drive')"
   ]
  },
  {
   "cell_type": "code",
   "execution_count": 2,
   "id": "65ae3a9b",
   "metadata": {
    "executionInfo": {
     "elapsed": 5008,
     "status": "ok",
     "timestamp": 1646879894343,
     "user": {
      "displayName": "Kuma Kuma",
      "photoUrl": "https://lh3.googleusercontent.com/a/default-user=s64",
      "userId": "12915026376988725700"
     },
     "user_tz": -420
    },
    "id": "65ae3a9b"
   },
   "outputs": [],
   "source": [
    "import os\n",
    "import librosa\n",
    "import matplotlib.pyplot as plt\n",
    "import numpy as np\n",
    "import h5py\n",
    "from tensorflow import keras\n",
    "from tensorflow.keras import layers"
   ]
  },
  {
   "cell_type": "code",
   "execution_count": 3,
   "id": "fd48f892",
   "metadata": {
    "executionInfo": {
     "elapsed": 927,
     "status": "ok",
     "timestamp": 1646879895264,
     "user": {
      "displayName": "Kuma Kuma",
      "photoUrl": "https://lh3.googleusercontent.com/a/default-user=s64",
      "userId": "12915026376988725700"
     },
     "user_tz": -420
    },
    "id": "fd48f892"
   },
   "outputs": [],
   "source": [
    "def load_data(dataset_path):\n",
    "    hf = h5py.File(dataset_path, 'r')\n",
    "    inputs = hf.get('inputs')\n",
    "    targets = hf.get('targets')\n",
    "    \n",
    "    inputs = np.array(inputs)\n",
    "    targets = np.array(targets)\n",
    "    hf.close()\n",
    "    \n",
    "    return inputs, targets"
   ]
  },
  {
   "cell_type": "code",
   "execution_count": 4,
   "id": "29758bca",
   "metadata": {
    "executionInfo": {
     "elapsed": 4450,
     "status": "ok",
     "timestamp": 1646879899993,
     "user": {
      "displayName": "Kuma Kuma",
      "photoUrl": "https://lh3.googleusercontent.com/a/default-user=s64",
      "userId": "12915026376988725700"
     },
     "user_tz": -420
    },
    "id": "29758bca",
    "scrolled": true
   },
   "outputs": [],
   "source": [
    "inputs, targets = load_data(r\"/content/drive/MyDrive/Thesis/Datasets/music_dataset_augmented.h5\")"
   ]
  },
  {
   "cell_type": "code",
   "execution_count": 5,
   "id": "QzsoL51n6xrL",
   "metadata": {
    "colab": {
     "base_uri": "https://localhost:8080/"
    },
    "executionInfo": {
     "elapsed": 5,
     "status": "ok",
     "timestamp": 1646879899993,
     "user": {
      "displayName": "Kuma Kuma",
      "photoUrl": "https://lh3.googleusercontent.com/a/default-user=s64",
      "userId": "12915026376988725700"
     },
     "user_tz": -420
    },
    "id": "QzsoL51n6xrL",
    "outputId": "7263956e-229c-4496-ed5d-43b04488cb8c"
   },
   "outputs": [
    {
     "name": "stdout",
     "output_type": "stream",
     "text": [
      "(19972, 130, 13)\n",
      "(19972,)\n"
     ]
    }
   ],
   "source": [
    "print(inputs.shape)\n",
    "print(targets.shape)"
   ]
  },
  {
   "cell_type": "code",
   "execution_count": 6,
   "id": "RXS0k9w4Mk2V",
   "metadata": {
    "colab": {
     "base_uri": "https://localhost:8080/"
    },
    "executionInfo": {
     "elapsed": 3,
     "status": "ok",
     "timestamp": 1646879899993,
     "user": {
      "displayName": "Kuma Kuma",
      "photoUrl": "https://lh3.googleusercontent.com/a/default-user=s64",
      "userId": "12915026376988725700"
     },
     "user_tz": -420
    },
    "id": "RXS0k9w4Mk2V",
    "outputId": "9699c8f7-ca3a-4f47-e7c7-906d3070edda"
   },
   "outputs": [
    {
     "name": "stdout",
     "output_type": "stream",
     "text": [
      "(19972, 1690, 1)\n"
     ]
    }
   ],
   "source": [
    "inputs = inputs.reshape((inputs.shape[0], -1, 1))\n",
    "print(inputs.shape)"
   ]
  },
  {
   "cell_type": "code",
   "execution_count": 7,
   "id": "kxuRUvVs0G7p",
   "metadata": {
    "colab": {
     "base_uri": "https://localhost:8080/"
    },
    "executionInfo": {
     "elapsed": 486,
     "status": "ok",
     "timestamp": 1646879900477,
     "user": {
      "displayName": "Kuma Kuma",
      "photoUrl": "https://lh3.googleusercontent.com/a/default-user=s64",
      "userId": "12915026376988725700"
     },
     "user_tz": -420
    },
    "id": "kxuRUvVs0G7p",
    "outputId": "1e87056e-3411-4da5-d0ff-7e2d6ca74877"
   },
   "outputs": [
    {
     "name": "stdout",
     "output_type": "stream",
     "text": [
      "(19972, 1690, 1)\n"
     ]
    }
   ],
   "source": [
    "from sklearn.preprocessing import StandardScaler\n",
    "\n",
    "scaler = StandardScaler()\n",
    "inputs = scaler.fit_transform(inputs.reshape(-1, inputs.shape[-1])).reshape(inputs.shape)\n",
    "\n",
    "print(inputs.shape)"
   ]
  },
  {
   "cell_type": "code",
   "execution_count": 8,
   "id": "VMTkKPS-1iaf",
   "metadata": {
    "colab": {
     "base_uri": "https://localhost:8080/"
    },
    "executionInfo": {
     "elapsed": 5,
     "status": "ok",
     "timestamp": 1646879900478,
     "user": {
      "displayName": "Kuma Kuma",
      "photoUrl": "https://lh3.googleusercontent.com/a/default-user=s64",
      "userId": "12915026376988725700"
     },
     "user_tz": -420
    },
    "id": "VMTkKPS-1iaf",
    "outputId": "553d14ed-9479-4478-93ea-dbe52b304903"
   },
   "outputs": [
    {
     "name": "stdout",
     "output_type": "stream",
     "text": [
      "(15977, 1690, 1) (1997, 1690, 1) (1998, 1690, 1)\n"
     ]
    }
   ],
   "source": [
    "# train_test_split 80 10 10\n",
    "from sklearn.model_selection import train_test_split\n",
    "\n",
    "input_train, input_test, target_train, target_test = train_test_split(inputs, targets, test_size=0.2)\n",
    "input_test, input_val, target_test, target_val   = train_test_split(input_test, target_test, test_size=0.5)\n",
    "\n",
    "print(input_train.shape, input_test.shape, input_val.shape)"
   ]
  },
  {
   "cell_type": "code",
   "execution_count": 9,
   "id": "deb03509",
   "metadata": {
    "executionInfo": {
     "elapsed": 3,
     "status": "ok",
     "timestamp": 1646879900478,
     "user": {
      "displayName": "Kuma Kuma",
      "photoUrl": "https://lh3.googleusercontent.com/a/default-user=s64",
      "userId": "12915026376988725700"
     },
     "user_tz": -420
    },
    "id": "deb03509"
   },
   "outputs": [],
   "source": [
    "def transformer_encoder(inputs, head_size, num_heads, ff_dim, dropout=0):\n",
    "    x = layers.MultiHeadAttention(key_dim=head_size, num_heads=num_heads, dropout=dropout)(inputs, inputs)\n",
    "    x = layers.Dropout(dropout)(x)\n",
    "    x = layers.LayerNormalization(epsilon=1e-6)(x)\n",
    "    res = x + inputs\n",
    "\n",
    "    x = layers.Conv1D(filters=ff_dim, kernel_size=1, activation=\"relu\")(res)\n",
    "    x = layers.Dropout(dropout)(x)\n",
    "    x = layers.Conv1D(filters=inputs.shape[-1], kernel_size=1)(x)\n",
    "    x = layers.LayerNormalization(epsilon=1e-6)(x)\n",
    "    return x + res"
   ]
  },
  {
   "cell_type": "code",
   "execution_count": 10,
   "id": "20846679",
   "metadata": {
    "executionInfo": {
     "elapsed": 2,
     "status": "ok",
     "timestamp": 1646879900478,
     "user": {
      "displayName": "Kuma Kuma",
      "photoUrl": "https://lh3.googleusercontent.com/a/default-user=s64",
      "userId": "12915026376988725700"
     },
     "user_tz": -420
    },
    "id": "20846679"
   },
   "outputs": [],
   "source": [
    "def build_model(input_shape, head_size, num_heads, ff_dim, num_transformer_blocks, mlp_units, dropout=0, mlp_dropout=0, n_classes=10):\n",
    "    inputs = keras.Input(shape=input_shape)\n",
    "    x = inputs\n",
    "    for _ in range(num_transformer_blocks):\n",
    "        x = transformer_encoder(x, head_size, num_heads, ff_dim, dropout)\n",
    "\n",
    "    x = layers.GlobalAveragePooling1D(data_format=\"channels_first\")(x)\n",
    "    for dim in mlp_units:\n",
    "        x = layers.Dense(dim, activation=\"relu\")(x)\n",
    "        x = layers.Dropout(mlp_dropout)(x)\n",
    "    outputs = layers.Dense(n_classes, activation=\"softmax\")(x)\n",
    "    return keras.Model(inputs, outputs)"
   ]
  },
  {
   "cell_type": "code",
   "execution_count": 11,
   "id": "f9b1c258",
   "metadata": {
    "colab": {
     "base_uri": "https://localhost:8080/"
    },
    "executionInfo": {
     "elapsed": 3899,
     "status": "ok",
     "timestamp": 1646879904375,
     "user": {
      "displayName": "Kuma Kuma",
      "photoUrl": "https://lh3.googleusercontent.com/a/default-user=s64",
      "userId": "12915026376988725700"
     },
     "user_tz": -420
    },
    "id": "f9b1c258",
    "outputId": "2b0a8ea3-2475-4f09-ec95-55f5177de0b3"
   },
   "outputs": [
    {
     "name": "stdout",
     "output_type": "stream",
     "text": [
      "Model: \"model\"\n",
      "__________________________________________________________________________________________________\n",
      " Layer (type)                   Output Shape         Param #     Connected to                     \n",
      "==================================================================================================\n",
      " input_1 (InputLayer)           [(None, 1690, 1)]    0           []                               \n",
      "                                                                                                  \n",
      " multi_head_attention (MultiHea  (None, 1690, 1)     3585        ['input_1[0][0]',                \n",
      " dAttention)                                                      'input_1[0][0]']                \n",
      "                                                                                                  \n",
      " dropout (Dropout)              (None, 1690, 1)      0           ['multi_head_attention[0][0]']   \n",
      "                                                                                                  \n",
      " layer_normalization (LayerNorm  (None, 1690, 1)     2           ['dropout[0][0]']                \n",
      " alization)                                                                                       \n",
      "                                                                                                  \n",
      " tf.__operators__.add (TFOpLamb  (None, 1690, 1)     0           ['layer_normalization[0][0]',    \n",
      " da)                                                              'input_1[0][0]']                \n",
      "                                                                                                  \n",
      " conv1d (Conv1D)                (None, 1690, 4)      8           ['tf.__operators__.add[0][0]']   \n",
      "                                                                                                  \n",
      " dropout_1 (Dropout)            (None, 1690, 4)      0           ['conv1d[0][0]']                 \n",
      "                                                                                                  \n",
      " conv1d_1 (Conv1D)              (None, 1690, 1)      5           ['dropout_1[0][0]']              \n",
      "                                                                                                  \n",
      " layer_normalization_1 (LayerNo  (None, 1690, 1)     2           ['conv1d_1[0][0]']               \n",
      " rmalization)                                                                                     \n",
      "                                                                                                  \n",
      " tf.__operators__.add_1 (TFOpLa  (None, 1690, 1)     0           ['layer_normalization_1[0][0]',  \n",
      " mbda)                                                            'tf.__operators__.add[0][0]']   \n",
      "                                                                                                  \n",
      " multi_head_attention_1 (MultiH  (None, 1690, 1)     3585        ['tf.__operators__.add_1[0][0]', \n",
      " eadAttention)                                                    'tf.__operators__.add_1[0][0]'] \n",
      "                                                                                                  \n",
      " dropout_2 (Dropout)            (None, 1690, 1)      0           ['multi_head_attention_1[0][0]'] \n",
      "                                                                                                  \n",
      " layer_normalization_2 (LayerNo  (None, 1690, 1)     2           ['dropout_2[0][0]']              \n",
      " rmalization)                                                                                     \n",
      "                                                                                                  \n",
      " tf.__operators__.add_2 (TFOpLa  (None, 1690, 1)     0           ['layer_normalization_2[0][0]',  \n",
      " mbda)                                                            'tf.__operators__.add_1[0][0]'] \n",
      "                                                                                                  \n",
      " conv1d_2 (Conv1D)              (None, 1690, 4)      8           ['tf.__operators__.add_2[0][0]'] \n",
      "                                                                                                  \n",
      " dropout_3 (Dropout)            (None, 1690, 4)      0           ['conv1d_2[0][0]']               \n",
      "                                                                                                  \n",
      " conv1d_3 (Conv1D)              (None, 1690, 1)      5           ['dropout_3[0][0]']              \n",
      "                                                                                                  \n",
      " layer_normalization_3 (LayerNo  (None, 1690, 1)     2           ['conv1d_3[0][0]']               \n",
      " rmalization)                                                                                     \n",
      "                                                                                                  \n",
      " tf.__operators__.add_3 (TFOpLa  (None, 1690, 1)     0           ['layer_normalization_3[0][0]',  \n",
      " mbda)                                                            'tf.__operators__.add_2[0][0]'] \n",
      "                                                                                                  \n",
      " global_average_pooling1d (Glob  (None, 1690)        0           ['tf.__operators__.add_3[0][0]'] \n",
      " alAveragePooling1D)                                                                              \n",
      "                                                                                                  \n",
      " dense (Dense)                  (None, 128)          216448      ['global_average_pooling1d[0][0]'\n",
      "                                                                 ]                                \n",
      "                                                                                                  \n",
      " dropout_4 (Dropout)            (None, 128)          0           ['dense[0][0]']                  \n",
      "                                                                                                  \n",
      " dense_1 (Dense)                (None, 10)           1290        ['dropout_4[0][0]']              \n",
      "                                                                                                  \n",
      "==================================================================================================\n",
      "Total params: 224,942\n",
      "Trainable params: 224,942\n",
      "Non-trainable params: 0\n",
      "__________________________________________________________________________________________________\n"
     ]
    }
   ],
   "source": [
    "input_shape = input_train.shape[1:]\n",
    "\n",
    "model = build_model(\n",
    "    input_shape,\n",
    "    head_size=256,\n",
    "    num_heads=2,\n",
    "    ff_dim=4,\n",
    "    num_transformer_blocks=2,\n",
    "    mlp_units=[128],\n",
    "    mlp_dropout=0.4,\n",
    "    dropout=0.3,\n",
    "    n_classes=len(np.unique(target_train))\n",
    ")\n",
    "\n",
    "model.compile(\n",
    "    loss=\"sparse_categorical_crossentropy\",\n",
    "    optimizer=keras.optimizers.Adam(learning_rate=1e-4),\n",
    "    metrics=[\"sparse_categorical_accuracy\"],\n",
    ")\n",
    "model.summary()"
   ]
  },
  {
   "cell_type": "code",
   "execution_count": 12,
   "id": "5N2VE_YPFVvW",
   "metadata": {
    "executionInfo": {
     "elapsed": 3,
     "status": "ok",
     "timestamp": 1646879904376,
     "user": {
      "displayName": "Kuma Kuma",
      "photoUrl": "https://lh3.googleusercontent.com/a/default-user=s64",
      "userId": "12915026376988725700"
     },
     "user_tz": -420
    },
    "id": "5N2VE_YPFVvW"
   },
   "outputs": [],
   "source": [
    "# from keras.utils.vis_utils import plot_model\n",
    "# plot_model(model, show_shapes=True, show_layer_names=True, to_file='/content/drive/MyDrive/Thesis/Models/transformer_model1_plot.png')#, to_file='/content/drive/MyDrive/Thesis/Models/transformer_model1_plot.png'"
   ]
  },
  {
   "cell_type": "code",
   "execution_count": 13,
   "id": "298ea027",
   "metadata": {
    "colab": {
     "base_uri": "https://localhost:8080/"
    },
    "executionInfo": {
     "elapsed": 15205373,
     "status": "ok",
     "timestamp": 1646895109746,
     "user": {
      "displayName": "Kuma Kuma",
      "photoUrl": "https://lh3.googleusercontent.com/a/default-user=s64",
      "userId": "12915026376988725700"
     },
     "user_tz": -420
    },
    "id": "298ea027",
    "outputId": "d450dfd9-4b2e-4bf4-fba8-97f00c8f2c9b"
   },
   "outputs": [
    {
     "name": "stdout",
     "output_type": "stream",
     "text": [
      "Epoch 1/30\n",
      "999/999 [==============================] - 520s 507ms/step - loss: 1.7783 - sparse_categorical_accuracy: 0.3696 - val_loss: 1.5106 - val_sparse_categorical_accuracy: 0.4775 - lr: 1.0000e-04\n",
      "Epoch 2/30\n",
      "999/999 [==============================] - 508s 509ms/step - loss: 1.5326 - sparse_categorical_accuracy: 0.4519 - val_loss: 1.4009 - val_sparse_categorical_accuracy: 0.5000 - lr: 1.0000e-04\n",
      "Epoch 3/30\n",
      "999/999 [==============================] - 506s 507ms/step - loss: 1.4425 - sparse_categorical_accuracy: 0.4873 - val_loss: 1.3459 - val_sparse_categorical_accuracy: 0.5295 - lr: 1.0000e-04\n",
      "Epoch 4/30\n",
      "999/999 [==============================] - 502s 502ms/step - loss: 1.3866 - sparse_categorical_accuracy: 0.5063 - val_loss: 1.3067 - val_sparse_categorical_accuracy: 0.5295 - lr: 1.0000e-04\n",
      "Epoch 5/30\n",
      "999/999 [==============================] - 502s 502ms/step - loss: 1.3422 - sparse_categorical_accuracy: 0.5275 - val_loss: 1.2806 - val_sparse_categorical_accuracy: 0.5410 - lr: 1.0000e-04\n",
      "Epoch 6/30\n",
      "999/999 [==============================] - 502s 502ms/step - loss: 1.3152 - sparse_categorical_accuracy: 0.5294 - val_loss: 1.2656 - val_sparse_categorical_accuracy: 0.5440 - lr: 1.0000e-04\n",
      "Epoch 7/30\n",
      "999/999 [==============================] - 502s 502ms/step - loss: 1.2781 - sparse_categorical_accuracy: 0.5507 - val_loss: 1.2421 - val_sparse_categorical_accuracy: 0.5586 - lr: 1.0000e-04\n",
      "Epoch 8/30\n",
      "999/999 [==============================] - 505s 506ms/step - loss: 1.2551 - sparse_categorical_accuracy: 0.5559 - val_loss: 1.2338 - val_sparse_categorical_accuracy: 0.5606 - lr: 1.0000e-04\n",
      "Epoch 9/30\n",
      "999/999 [==============================] - 506s 506ms/step - loss: 1.2341 - sparse_categorical_accuracy: 0.5616 - val_loss: 1.1986 - val_sparse_categorical_accuracy: 0.5646 - lr: 1.0000e-04\n",
      "Epoch 10/30\n",
      "999/999 [==============================] - 505s 505ms/step - loss: 1.2065 - sparse_categorical_accuracy: 0.5733 - val_loss: 1.1864 - val_sparse_categorical_accuracy: 0.5746 - lr: 1.0000e-04\n",
      "Epoch 11/30\n",
      "999/999 [==============================] - 504s 505ms/step - loss: 1.1827 - sparse_categorical_accuracy: 0.5796 - val_loss: 1.1815 - val_sparse_categorical_accuracy: 0.5691 - lr: 1.0000e-04\n",
      "Epoch 12/30\n",
      "999/999 [==============================] - 506s 507ms/step - loss: 1.1618 - sparse_categorical_accuracy: 0.5908 - val_loss: 1.1771 - val_sparse_categorical_accuracy: 0.5806 - lr: 1.0000e-04\n",
      "Epoch 13/30\n",
      "999/999 [==============================] - 507s 507ms/step - loss: 1.1491 - sparse_categorical_accuracy: 0.5991 - val_loss: 1.1642 - val_sparse_categorical_accuracy: 0.5766 - lr: 1.0000e-04\n",
      "Epoch 14/30\n",
      "999/999 [==============================] - 507s 507ms/step - loss: 1.1272 - sparse_categorical_accuracy: 0.6042 - val_loss: 1.1515 - val_sparse_categorical_accuracy: 0.5931 - lr: 1.0000e-04\n",
      "Epoch 15/30\n",
      "999/999 [==============================] - 505s 506ms/step - loss: 1.1123 - sparse_categorical_accuracy: 0.6075 - val_loss: 1.1582 - val_sparse_categorical_accuracy: 0.5941 - lr: 1.0000e-04\n",
      "Epoch 16/30\n",
      "999/999 [==============================] - 506s 507ms/step - loss: 1.0953 - sparse_categorical_accuracy: 0.6153 - val_loss: 1.1183 - val_sparse_categorical_accuracy: 0.5951 - lr: 1.0000e-04\n",
      "Epoch 17/30\n",
      "999/999 [==============================] - 503s 504ms/step - loss: 1.0878 - sparse_categorical_accuracy: 0.6153 - val_loss: 1.1214 - val_sparse_categorical_accuracy: 0.5981 - lr: 1.0000e-04\n",
      "Epoch 18/30\n",
      "999/999 [==============================] - 505s 505ms/step - loss: 1.0706 - sparse_categorical_accuracy: 0.6235 - val_loss: 1.1111 - val_sparse_categorical_accuracy: 0.6016 - lr: 1.0000e-04\n",
      "Epoch 19/30\n",
      "999/999 [==============================] - 506s 507ms/step - loss: 1.0511 - sparse_categorical_accuracy: 0.6289 - val_loss: 1.1110 - val_sparse_categorical_accuracy: 0.6006 - lr: 1.0000e-04\n",
      "Epoch 20/30\n",
      "999/999 [==============================] - 505s 506ms/step - loss: 1.0335 - sparse_categorical_accuracy: 0.6375 - val_loss: 1.1018 - val_sparse_categorical_accuracy: 0.6081 - lr: 1.0000e-04\n",
      "Epoch 21/30\n",
      "999/999 [==============================] - 505s 506ms/step - loss: 1.0250 - sparse_categorical_accuracy: 0.6384 - val_loss: 1.0971 - val_sparse_categorical_accuracy: 0.5981 - lr: 1.0000e-04\n",
      "Epoch 22/30\n",
      "999/999 [==============================] - 506s 506ms/step - loss: 1.0044 - sparse_categorical_accuracy: 0.6467 - val_loss: 1.0981 - val_sparse_categorical_accuracy: 0.6011 - lr: 1.0000e-04\n",
      "Epoch 23/30\n",
      "999/999 [==============================] - 506s 506ms/step - loss: 1.0028 - sparse_categorical_accuracy: 0.6489 - val_loss: 1.0804 - val_sparse_categorical_accuracy: 0.6066 - lr: 1.0000e-04\n",
      "Epoch 24/30\n",
      "999/999 [==============================] - 502s 502ms/step - loss: 0.9912 - sparse_categorical_accuracy: 0.6516 - val_loss: 1.0956 - val_sparse_categorical_accuracy: 0.6016 - lr: 1.0000e-04\n",
      "Epoch 25/30\n",
      "999/999 [==============================] - 506s 507ms/step - loss: 0.9809 - sparse_categorical_accuracy: 0.6573 - val_loss: 1.0659 - val_sparse_categorical_accuracy: 0.6161 - lr: 1.0000e-04\n",
      "Epoch 26/30\n",
      "999/999 [==============================] - 507s 507ms/step - loss: 0.9726 - sparse_categorical_accuracy: 0.6581 - val_loss: 1.0650 - val_sparse_categorical_accuracy: 0.6181 - lr: 1.0000e-04\n",
      "Epoch 27/30\n",
      "999/999 [==============================] - 507s 507ms/step - loss: 0.9577 - sparse_categorical_accuracy: 0.6652 - val_loss: 1.0802 - val_sparse_categorical_accuracy: 0.6166 - lr: 1.0000e-04\n",
      "Epoch 28/30\n",
      "999/999 [==============================] - 503s 504ms/step - loss: 0.9553 - sparse_categorical_accuracy: 0.6678 - val_loss: 1.0613 - val_sparse_categorical_accuracy: 0.6166 - lr: 1.0000e-04\n",
      "Epoch 29/30\n",
      "999/999 [==============================] - 523s 524ms/step - loss: 0.9388 - sparse_categorical_accuracy: 0.6707 - val_loss: 1.0617 - val_sparse_categorical_accuracy: 0.6191 - lr: 1.0000e-04\n",
      "Epoch 30/30\n",
      "999/999 [==============================] - 505s 505ms/step - loss: 0.9309 - sparse_categorical_accuracy: 0.6727 - val_loss: 1.0598 - val_sparse_categorical_accuracy: 0.6121 - lr: 1.0000e-04\n"
     ]
    }
   ],
   "source": [
    "early_stop  = keras.callbacks.EarlyStopping(patience=10, restore_best_weights=True)\n",
    "reduce_lr   = keras.callbacks.ReduceLROnPlateau(monitor='val_loss', factor=0.2, patience=5, min_lr=1e-6)\n",
    "\n",
    "hist = model.fit(\n",
    "    input_train, target_train,\n",
    "    validation_data=(input_val, target_val),\n",
    "    epochs = 30,\n",
    "    batch_size = 16,\n",
    "    callbacks = [\n",
    "        reduce_lr,\n",
    "        early_stop\n",
    "    ]\n",
    ")"
   ]
  },
  {
   "cell_type": "code",
   "execution_count": 14,
   "id": "01cfd42c",
   "metadata": {
    "colab": {
     "base_uri": "https://localhost:8080/"
    },
    "executionInfo": {
     "elapsed": 41027,
     "status": "ok",
     "timestamp": 1646895150766,
     "user": {
      "displayName": "Kuma Kuma",
      "photoUrl": "https://lh3.googleusercontent.com/a/default-user=s64",
      "userId": "12915026376988725700"
     },
     "user_tz": -420
    },
    "id": "01cfd42c",
    "outputId": "51ffba9b-012d-4978-cabb-361cbc2d05ec"
   },
   "outputs": [
    {
     "name": "stdout",
     "output_type": "stream",
     "text": [
      "63/63 [==============================] - 21s 336ms/step - loss: 1.0698 - sparse_categorical_accuracy: 0.6244\n",
      "Test accuracy: 0.6244366765022278\n"
     ]
    }
   ],
   "source": [
    "error, acc = model.evaluate(input_test, target_test, verbose=1)\n",
    "print(f\"Test accuracy: {acc}\")"
   ]
  },
  {
   "cell_type": "code",
   "execution_count": 15,
   "id": "5e99e408",
   "metadata": {
    "colab": {
     "base_uri": "https://localhost:8080/",
     "height": 573
    },
    "executionInfo": {
     "elapsed": 791,
     "status": "ok",
     "timestamp": 1646895151550,
     "user": {
      "displayName": "Kuma Kuma",
      "photoUrl": "https://lh3.googleusercontent.com/a/default-user=s64",
      "userId": "12915026376988725700"
     },
     "user_tz": -420
    },
    "id": "5e99e408",
    "outputId": "36b8ff20-6f6d-43e1-c3db-7ce21e0b3355"
   },
   "outputs": [
    {
     "data": {
      "image/png": "[encoded data removed]",
      "text/plain": [
       "<Figure size 432x288 with 1 Axes>"
      ]
     },
     "metadata": {
      "needs_background": "light"
     },
     "output_type": "display_data"
    },
    {
     "data": {
      "image/png": "[encoded data removed]",
      "text/plain": [
       "<Figure size 432x288 with 1 Axes>"
      ]
     },
     "metadata": {
      "needs_background": "light"
     },
     "output_type": "display_data"
    }
   ],
   "source": [
    "plt.plot(hist.history[\"sparse_categorical_accuracy\"], label=\"train accuracy\")\n",
    "plt.plot(hist.history[\"val_sparse_categorical_accuracy\"], label=\"validation accuracy\")\n",
    "plt.xlabel(\"Epoch\")\n",
    "plt.ylabel(\"Accuracy\")\n",
    "plt.legend(loc=\"lower right\")\n",
    "plt.title(\"Accuracy eval\")\n",
    "plt.show()\n",
    "\n",
    "plt.plot(hist.history[\"loss\"], label=\"train error\")\n",
    "plt.plot(hist.history[\"val_loss\"], label=\"validation error\")\n",
    "plt.xlabel(\"Epoch\")\n",
    "plt.ylabel(\"Error\")\n",
    "plt.legend(loc=\"upper right\")\n",
    "plt.title(\"Error eval\")\n",
    "plt.show()"
   ]
  },
  {
   "cell_type": "code",
   "execution_count": 16,
   "id": "OFpsSmljriSb",
   "metadata": {
    "colab": {
     "base_uri": "https://localhost:8080/"
    },
    "executionInfo": {
     "elapsed": 3955,
     "status": "ok",
     "timestamp": 1646895155502,
     "user": {
      "displayName": "Kuma Kuma",
      "photoUrl": "https://lh3.googleusercontent.com/a/default-user=s64",
      "userId": "12915026376988725700"
     },
     "user_tz": -420
    },
    "id": "OFpsSmljriSb",
    "outputId": "9b08455d-0f86-4c16-a763-572c618fa7e0"
   },
   "outputs": [
    {
     "name": "stderr",
     "output_type": "stream",
     "text": [
      "WARNING:absl:Found untraced functions such as query_layer_call_fn, query_layer_call_and_return_conditional_losses, key_layer_call_fn, key_layer_call_and_return_conditional_losses, value_layer_call_fn while saving (showing 5 of 24). These functions will not be directly callable after loading.\n"
     ]
    },
    {
     "name": "stdout",
     "output_type": "stream",
     "text": [
      "INFO:tensorflow:Assets written to: /content/drive/MyDrive/Thesis/Models/Transformer_Fin_1003_ShiftTime_Dataset/assets\n"
     ]
    },
    {
     "name": "stderr",
     "output_type": "stream",
     "text": [
      "INFO:tensorflow:Assets written to: /content/drive/MyDrive/Thesis/Models/Transformer_Fin_1003_ShiftTime_Dataset/assets\n"
     ]
    }
   ],
   "source": [
    "model.save('/content/drive/MyDrive/Thesis/Models/transformer_model')"
   ]
  },
  {
   "cell_type": "code",
   "execution_count": 17,
   "id": "pczRJwPO4PcR",
   "metadata": {
    "colab": {
     "base_uri": "https://localhost:8080/"
    },
    "executionInfo": {
     "elapsed": 4225,
     "status": "ok",
     "timestamp": 1646895159720,
     "user": {
      "displayName": "Kuma Kuma",
      "photoUrl": "https://lh3.googleusercontent.com/a/default-user=s64",
      "userId": "12915026376988725700"
     },
     "user_tz": -420
    },
    "id": "pczRJwPO4PcR",
    "outputId": "5d8ffd71-eacb-431a-cd4f-f160d387b31a"
   },
   "outputs": [
    {
     "name": "stderr",
     "output_type": "stream",
     "text": [
      "WARNING:absl:Found untraced functions such as query_layer_call_fn, query_layer_call_and_return_conditional_losses, key_layer_call_fn, key_layer_call_and_return_conditional_losses, value_layer_call_fn while saving (showing 5 of 24). These functions will not be directly callable after loading.\n"
     ]
    },
    {
     "name": "stdout",
     "output_type": "stream",
     "text": [
      "INFO:tensorflow:Assets written to: ram://00a0cf81-aa10-4139-b2cd-23e12562342b/assets\n"
     ]
    },
    {
     "name": "stderr",
     "output_type": "stream",
     "text": [
      "INFO:tensorflow:Assets written to: ram://00a0cf81-aa10-4139-b2cd-23e12562342b/assets\n"
     ]
    }
   ],
   "source": [
    "import pickle\n",
    "with open('/content/drive/MyDrive/Thesis/History/transformer_history.pkl', 'wb') as file_pi:\n",
    "        pickle.dump(hist, file_pi)"
   ]
  },
  {
   "cell_type": "code",
   "execution_count": 18,
   "id": "8cvZEGji4XoG",
   "metadata": {
    "executionInfo": {
     "elapsed": 2289,
     "status": "ok",
     "timestamp": 1646895162008,
     "user": {
      "displayName": "Kuma Kuma",
      "photoUrl": "https://lh3.googleusercontent.com/a/default-user=s64",
      "userId": "12915026376988725700"
     },
     "user_tz": -420
    },
    "id": "8cvZEGji4XoG"
   },
   "outputs": [],
   "source": [
    "with open('/content/drive/MyDrive/Thesis/History/transformer_history.pkl', 'rb') as f:\n",
    "    saved_model = pickle.load(f)"
   ]
  },
  {
   "cell_type": "code",
   "execution_count": 19,
   "id": "8udoxWk54dMp",
   "metadata": {
    "colab": {
     "base_uri": "https://localhost:8080/",
     "height": 573
    },
    "executionInfo": {
     "elapsed": 579,
     "status": "ok",
     "timestamp": 1646895162586,
     "user": {
      "displayName": "Kuma Kuma",
      "photoUrl": "https://lh3.googleusercontent.com/a/default-user=s64",
      "userId": "12915026376988725700"
     },
     "user_tz": -420
    },
    "id": "8udoxWk54dMp",
    "outputId": "0f2f210f-fb7a-4769-ac29-10942fa27dfb"
   },
   "outputs": [
    {
     "data": {
      "image/png": "[encoded data removed]",
      "text/plain": [
       "<Figure size 432x288 with 1 Axes>"
      ]
     },
     "metadata": {
      "needs_background": "light"
     },
     "output_type": "display_data"
    },
    {
     "data": {
      "image/png": "[encoded data removed]",
      "text/plain": [
       "<Figure size 432x288 with 1 Axes>"
      ]
     },
     "metadata": {
      "needs_background": "light"
     },
     "output_type": "display_data"
    }
   ],
   "source": [
    "plt.plot(saved_model.history[\"sparse_categorical_accuracy\"], label=\"train accuracy\")\n",
    "plt.plot(saved_model.history[\"val_sparse_categorical_accuracy\"], label=\"validation accuracy\")\n",
    "plt.xlabel(\"Epoch\")\n",
    "plt.ylabel(\"Accuracy\")\n",
    "plt.legend(loc=\"lower right\")\n",
    "plt.title(\"Accuracy eval\")\n",
    "plt.show()\n",
    "\n",
    "plt.plot(saved_model.history[\"loss\"], label=\"train error\")\n",
    "plt.plot(saved_model.history[\"val_loss\"], label=\"validation error\")\n",
    "plt.xlabel(\"Epoch\")\n",
    "plt.ylabel(\"Error\")\n",
    "plt.legend(loc=\"upper right\")\n",
    "plt.title(\"Error eval\")\n",
    "plt.show()"
   ]
  }
 ],
 "metadata": {
  "accelerator": "GPU",
  "colab": {
   "collapsed_sections": [],
   "name": "Transformer_Fin_1003_ShiftTime_Dataset.ipynb",
   "provenance": []
  },
  "kernelspec": {
   "display_name": "Python 3 (ipykernel)",
   "language": "python",
   "name": "python3"
  },
  "language_info": {
   "codemirror_mode": {
    "name": "ipython",
    "version": 3
   },
   "file_extension": ".py",
   "mimetype": "text/x-python",
   "name": "python",
   "nbconvert_exporter": "python",
   "pygments_lexer": "ipython3",
   "version": "3.9.7"
  }
 },
 "nbformat": 4,
 "nbformat_minor": 5
}
